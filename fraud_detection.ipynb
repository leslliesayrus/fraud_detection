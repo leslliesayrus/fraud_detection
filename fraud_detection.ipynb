{
  "nbformat": 4,
  "nbformat_minor": 0,
  "metadata": {
    "colab": {
      "provenance": []
    },
    "kernelspec": {
      "name": "python3",
      "display_name": "Python 3"
    },
    "language_info": {
      "name": "python"
    }
  },
  "cells": [
    {
      "cell_type": "code",
      "execution_count": 1,
      "metadata": {
        "id": "uK1uQm_4tR_D"
      },
      "outputs": [],
      "source": [
        "import pandas as pd\n",
        "import numpy as np\n",
        "import matplotlib.pyplot as plt\n",
        "import seaborn as sns\n",
        "%matplotlib inline"
      ]
    },
    {
      "cell_type": "code",
      "source": [
        "# open the data\n",
        "df = pd.read_csv('/fraud.csv')"
      ],
      "metadata": {
        "id": "FLqOpWVoxLAc"
      },
      "execution_count": 2,
      "outputs": []
    },
    {
      "cell_type": "code",
      "source": [
        "df"
      ],
      "metadata": {
        "colab": {
          "base_uri": "https://localhost:8080/",
          "height": 488
        },
        "id": "4s4m8SyHxRUG",
        "outputId": "806be499-d9f1-426d-f0ca-a3c8b986edfb"
      },
      "execution_count": 3,
      "outputs": [
        {
          "output_type": "execute_result",
          "data": {
            "text/plain": [
              "        distance_from_home  distance_from_last_transaction  \\\n",
              "0                57.877857                        0.311140   \n",
              "1                10.829943                        0.175592   \n",
              "2                 5.091079                        0.805153   \n",
              "3                 2.247564                        5.600044   \n",
              "4                44.190936                        0.566486   \n",
              "...                    ...                             ...   \n",
              "999995            2.207101                        0.112651   \n",
              "999996           19.872726                        2.683904   \n",
              "999997            2.914857                        1.472687   \n",
              "999998            4.258729                        0.242023   \n",
              "999999           58.108125                        0.318110   \n",
              "\n",
              "        ratio_to_median_purchase_price  repeat_retailer  used_chip  \\\n",
              "0                             1.945940              1.0        1.0   \n",
              "1                             1.294219              1.0        0.0   \n",
              "2                             0.427715              1.0        0.0   \n",
              "3                             0.362663              1.0        1.0   \n",
              "4                             2.222767              1.0        1.0   \n",
              "...                                ...              ...        ...   \n",
              "999995                        1.626798              1.0        1.0   \n",
              "999996                        2.778303              1.0        1.0   \n",
              "999997                        0.218075              1.0        1.0   \n",
              "999998                        0.475822              1.0        0.0   \n",
              "999999                        0.386920              1.0        1.0   \n",
              "\n",
              "        used_pin_number  online_order  fraud  \n",
              "0                   0.0           0.0    0.0  \n",
              "1                   0.0           0.0    0.0  \n",
              "2                   0.0           1.0    0.0  \n",
              "3                   0.0           1.0    0.0  \n",
              "4                   0.0           1.0    0.0  \n",
              "...                 ...           ...    ...  \n",
              "999995              0.0           0.0    0.0  \n",
              "999996              0.0           0.0    0.0  \n",
              "999997              0.0           1.0    0.0  \n",
              "999998              0.0           1.0    0.0  \n",
              "999999              0.0           1.0    0.0  \n",
              "\n",
              "[1000000 rows x 8 columns]"
            ],
            "text/html": [
              "\n",
              "  <div id=\"df-eeea6ccf-6ded-45b3-9e61-d93fa715e275\">\n",
              "    <div class=\"colab-df-container\">\n",
              "      <div>\n",
              "<style scoped>\n",
              "    .dataframe tbody tr th:only-of-type {\n",
              "        vertical-align: middle;\n",
              "    }\n",
              "\n",
              "    .dataframe tbody tr th {\n",
              "        vertical-align: top;\n",
              "    }\n",
              "\n",
              "    .dataframe thead th {\n",
              "        text-align: right;\n",
              "    }\n",
              "</style>\n",
              "<table border=\"1\" class=\"dataframe\">\n",
              "  <thead>\n",
              "    <tr style=\"text-align: right;\">\n",
              "      <th></th>\n",
              "      <th>distance_from_home</th>\n",
              "      <th>distance_from_last_transaction</th>\n",
              "      <th>ratio_to_median_purchase_price</th>\n",
              "      <th>repeat_retailer</th>\n",
              "      <th>used_chip</th>\n",
              "      <th>used_pin_number</th>\n",
              "      <th>online_order</th>\n",
              "      <th>fraud</th>\n",
              "    </tr>\n",
              "  </thead>\n",
              "  <tbody>\n",
              "    <tr>\n",
              "      <th>0</th>\n",
              "      <td>57.877857</td>\n",
              "      <td>0.311140</td>\n",
              "      <td>1.945940</td>\n",
              "      <td>1.0</td>\n",
              "      <td>1.0</td>\n",
              "      <td>0.0</td>\n",
              "      <td>0.0</td>\n",
              "      <td>0.0</td>\n",
              "    </tr>\n",
              "    <tr>\n",
              "      <th>1</th>\n",
              "      <td>10.829943</td>\n",
              "      <td>0.175592</td>\n",
              "      <td>1.294219</td>\n",
              "      <td>1.0</td>\n",
              "      <td>0.0</td>\n",
              "      <td>0.0</td>\n",
              "      <td>0.0</td>\n",
              "      <td>0.0</td>\n",
              "    </tr>\n",
              "    <tr>\n",
              "      <th>2</th>\n",
              "      <td>5.091079</td>\n",
              "      <td>0.805153</td>\n",
              "      <td>0.427715</td>\n",
              "      <td>1.0</td>\n",
              "      <td>0.0</td>\n",
              "      <td>0.0</td>\n",
              "      <td>1.0</td>\n",
              "      <td>0.0</td>\n",
              "    </tr>\n",
              "    <tr>\n",
              "      <th>3</th>\n",
              "      <td>2.247564</td>\n",
              "      <td>5.600044</td>\n",
              "      <td>0.362663</td>\n",
              "      <td>1.0</td>\n",
              "      <td>1.0</td>\n",
              "      <td>0.0</td>\n",
              "      <td>1.0</td>\n",
              "      <td>0.0</td>\n",
              "    </tr>\n",
              "    <tr>\n",
              "      <th>4</th>\n",
              "      <td>44.190936</td>\n",
              "      <td>0.566486</td>\n",
              "      <td>2.222767</td>\n",
              "      <td>1.0</td>\n",
              "      <td>1.0</td>\n",
              "      <td>0.0</td>\n",
              "      <td>1.0</td>\n",
              "      <td>0.0</td>\n",
              "    </tr>\n",
              "    <tr>\n",
              "      <th>...</th>\n",
              "      <td>...</td>\n",
              "      <td>...</td>\n",
              "      <td>...</td>\n",
              "      <td>...</td>\n",
              "      <td>...</td>\n",
              "      <td>...</td>\n",
              "      <td>...</td>\n",
              "      <td>...</td>\n",
              "    </tr>\n",
              "    <tr>\n",
              "      <th>999995</th>\n",
              "      <td>2.207101</td>\n",
              "      <td>0.112651</td>\n",
              "      <td>1.626798</td>\n",
              "      <td>1.0</td>\n",
              "      <td>1.0</td>\n",
              "      <td>0.0</td>\n",
              "      <td>0.0</td>\n",
              "      <td>0.0</td>\n",
              "    </tr>\n",
              "    <tr>\n",
              "      <th>999996</th>\n",
              "      <td>19.872726</td>\n",
              "      <td>2.683904</td>\n",
              "      <td>2.778303</td>\n",
              "      <td>1.0</td>\n",
              "      <td>1.0</td>\n",
              "      <td>0.0</td>\n",
              "      <td>0.0</td>\n",
              "      <td>0.0</td>\n",
              "    </tr>\n",
              "    <tr>\n",
              "      <th>999997</th>\n",
              "      <td>2.914857</td>\n",
              "      <td>1.472687</td>\n",
              "      <td>0.218075</td>\n",
              "      <td>1.0</td>\n",
              "      <td>1.0</td>\n",
              "      <td>0.0</td>\n",
              "      <td>1.0</td>\n",
              "      <td>0.0</td>\n",
              "    </tr>\n",
              "    <tr>\n",
              "      <th>999998</th>\n",
              "      <td>4.258729</td>\n",
              "      <td>0.242023</td>\n",
              "      <td>0.475822</td>\n",
              "      <td>1.0</td>\n",
              "      <td>0.0</td>\n",
              "      <td>0.0</td>\n",
              "      <td>1.0</td>\n",
              "      <td>0.0</td>\n",
              "    </tr>\n",
              "    <tr>\n",
              "      <th>999999</th>\n",
              "      <td>58.108125</td>\n",
              "      <td>0.318110</td>\n",
              "      <td>0.386920</td>\n",
              "      <td>1.0</td>\n",
              "      <td>1.0</td>\n",
              "      <td>0.0</td>\n",
              "      <td>1.0</td>\n",
              "      <td>0.0</td>\n",
              "    </tr>\n",
              "  </tbody>\n",
              "</table>\n",
              "<p>1000000 rows × 8 columns</p>\n",
              "</div>\n",
              "      <button class=\"colab-df-convert\" onclick=\"convertToInteractive('df-eeea6ccf-6ded-45b3-9e61-d93fa715e275')\"\n",
              "              title=\"Convert this dataframe to an interactive table.\"\n",
              "              style=\"display:none;\">\n",
              "        \n",
              "  <svg xmlns=\"http://www.w3.org/2000/svg\" height=\"24px\"viewBox=\"0 0 24 24\"\n",
              "       width=\"24px\">\n",
              "    <path d=\"M0 0h24v24H0V0z\" fill=\"none\"/>\n",
              "    <path d=\"M18.56 5.44l.94 2.06.94-2.06 2.06-.94-2.06-.94-.94-2.06-.94 2.06-2.06.94zm-11 1L8.5 8.5l.94-2.06 2.06-.94-2.06-.94L8.5 2.5l-.94 2.06-2.06.94zm10 10l.94 2.06.94-2.06 2.06-.94-2.06-.94-.94-2.06-.94 2.06-2.06.94z\"/><path d=\"M17.41 7.96l-1.37-1.37c-.4-.4-.92-.59-1.43-.59-.52 0-1.04.2-1.43.59L10.3 9.45l-7.72 7.72c-.78.78-.78 2.05 0 2.83L4 21.41c.39.39.9.59 1.41.59.51 0 1.02-.2 1.41-.59l7.78-7.78 2.81-2.81c.8-.78.8-2.07 0-2.86zM5.41 20L4 18.59l7.72-7.72 1.47 1.35L5.41 20z\"/>\n",
              "  </svg>\n",
              "      </button>\n",
              "      \n",
              "  <style>\n",
              "    .colab-df-container {\n",
              "      display:flex;\n",
              "      flex-wrap:wrap;\n",
              "      gap: 12px;\n",
              "    }\n",
              "\n",
              "    .colab-df-convert {\n",
              "      background-color: #E8F0FE;\n",
              "      border: none;\n",
              "      border-radius: 50%;\n",
              "      cursor: pointer;\n",
              "      display: none;\n",
              "      fill: #1967D2;\n",
              "      height: 32px;\n",
              "      padding: 0 0 0 0;\n",
              "      width: 32px;\n",
              "    }\n",
              "\n",
              "    .colab-df-convert:hover {\n",
              "      background-color: #E2EBFA;\n",
              "      box-shadow: 0px 1px 2px rgba(60, 64, 67, 0.3), 0px 1px 3px 1px rgba(60, 64, 67, 0.15);\n",
              "      fill: #174EA6;\n",
              "    }\n",
              "\n",
              "    [theme=dark] .colab-df-convert {\n",
              "      background-color: #3B4455;\n",
              "      fill: #D2E3FC;\n",
              "    }\n",
              "\n",
              "    [theme=dark] .colab-df-convert:hover {\n",
              "      background-color: #434B5C;\n",
              "      box-shadow: 0px 1px 3px 1px rgba(0, 0, 0, 0.15);\n",
              "      filter: drop-shadow(0px 1px 2px rgba(0, 0, 0, 0.3));\n",
              "      fill: #FFFFFF;\n",
              "    }\n",
              "  </style>\n",
              "\n",
              "      <script>\n",
              "        const buttonEl =\n",
              "          document.querySelector('#df-eeea6ccf-6ded-45b3-9e61-d93fa715e275 button.colab-df-convert');\n",
              "        buttonEl.style.display =\n",
              "          google.colab.kernel.accessAllowed ? 'block' : 'none';\n",
              "\n",
              "        async function convertToInteractive(key) {\n",
              "          const element = document.querySelector('#df-eeea6ccf-6ded-45b3-9e61-d93fa715e275');\n",
              "          const dataTable =\n",
              "            await google.colab.kernel.invokeFunction('convertToInteractive',\n",
              "                                                     [key], {});\n",
              "          if (!dataTable) return;\n",
              "\n",
              "          const docLinkHtml = 'Like what you see? Visit the ' +\n",
              "            '<a target=\"_blank\" href=https://colab.research.google.com/notebooks/data_table.ipynb>data table notebook</a>'\n",
              "            + ' to learn more about interactive tables.';\n",
              "          element.innerHTML = '';\n",
              "          dataTable['output_type'] = 'display_data';\n",
              "          await google.colab.output.renderOutput(dataTable, element);\n",
              "          const docLink = document.createElement('div');\n",
              "          docLink.innerHTML = docLinkHtml;\n",
              "          element.appendChild(docLink);\n",
              "        }\n",
              "      </script>\n",
              "    </div>\n",
              "  </div>\n",
              "  "
            ]
          },
          "metadata": {},
          "execution_count": 3
        }
      ]
    },
    {
      "cell_type": "code",
      "source": [
        "# statistics of dataframe\n",
        "df.describe()"
      ],
      "metadata": {
        "colab": {
          "base_uri": "https://localhost:8080/",
          "height": 364
        },
        "id": "jGHM9vVaxUEX",
        "outputId": "0be432fc-85f5-408d-980f-849934f3012c"
      },
      "execution_count": 4,
      "outputs": [
        {
          "output_type": "execute_result",
          "data": {
            "text/plain": [
              "       distance_from_home  distance_from_last_transaction  \\\n",
              "count      1000000.000000                  1000000.000000   \n",
              "mean            26.628792                        5.036519   \n",
              "std             65.390784                       25.843093   \n",
              "min              0.004874                        0.000118   \n",
              "25%              3.878008                        0.296671   \n",
              "50%              9.967760                        0.998650   \n",
              "75%             25.743985                        3.355748   \n",
              "max          10632.723672                    11851.104565   \n",
              "\n",
              "       ratio_to_median_purchase_price  repeat_retailer       used_chip  \\\n",
              "count                  1000000.000000   1000000.000000  1000000.000000   \n",
              "mean                         1.824182         0.881536        0.350399   \n",
              "std                          2.799589         0.323157        0.477095   \n",
              "min                          0.004399         0.000000        0.000000   \n",
              "25%                          0.475673         1.000000        0.000000   \n",
              "50%                          0.997717         1.000000        0.000000   \n",
              "75%                          2.096370         1.000000        1.000000   \n",
              "max                        267.802942         1.000000        1.000000   \n",
              "\n",
              "       used_pin_number    online_order           fraud  \n",
              "count   1000000.000000  1000000.000000  1000000.000000  \n",
              "mean          0.100608        0.650552        0.087403  \n",
              "std           0.300809        0.476796        0.282425  \n",
              "min           0.000000        0.000000        0.000000  \n",
              "25%           0.000000        0.000000        0.000000  \n",
              "50%           0.000000        1.000000        0.000000  \n",
              "75%           0.000000        1.000000        0.000000  \n",
              "max           1.000000        1.000000        1.000000  "
            ],
            "text/html": [
              "\n",
              "  <div id=\"df-7a81eebb-059b-43b9-a62d-5fbd7212acb8\">\n",
              "    <div class=\"colab-df-container\">\n",
              "      <div>\n",
              "<style scoped>\n",
              "    .dataframe tbody tr th:only-of-type {\n",
              "        vertical-align: middle;\n",
              "    }\n",
              "\n",
              "    .dataframe tbody tr th {\n",
              "        vertical-align: top;\n",
              "    }\n",
              "\n",
              "    .dataframe thead th {\n",
              "        text-align: right;\n",
              "    }\n",
              "</style>\n",
              "<table border=\"1\" class=\"dataframe\">\n",
              "  <thead>\n",
              "    <tr style=\"text-align: right;\">\n",
              "      <th></th>\n",
              "      <th>distance_from_home</th>\n",
              "      <th>distance_from_last_transaction</th>\n",
              "      <th>ratio_to_median_purchase_price</th>\n",
              "      <th>repeat_retailer</th>\n",
              "      <th>used_chip</th>\n",
              "      <th>used_pin_number</th>\n",
              "      <th>online_order</th>\n",
              "      <th>fraud</th>\n",
              "    </tr>\n",
              "  </thead>\n",
              "  <tbody>\n",
              "    <tr>\n",
              "      <th>count</th>\n",
              "      <td>1000000.000000</td>\n",
              "      <td>1000000.000000</td>\n",
              "      <td>1000000.000000</td>\n",
              "      <td>1000000.000000</td>\n",
              "      <td>1000000.000000</td>\n",
              "      <td>1000000.000000</td>\n",
              "      <td>1000000.000000</td>\n",
              "      <td>1000000.000000</td>\n",
              "    </tr>\n",
              "    <tr>\n",
              "      <th>mean</th>\n",
              "      <td>26.628792</td>\n",
              "      <td>5.036519</td>\n",
              "      <td>1.824182</td>\n",
              "      <td>0.881536</td>\n",
              "      <td>0.350399</td>\n",
              "      <td>0.100608</td>\n",
              "      <td>0.650552</td>\n",
              "      <td>0.087403</td>\n",
              "    </tr>\n",
              "    <tr>\n",
              "      <th>std</th>\n",
              "      <td>65.390784</td>\n",
              "      <td>25.843093</td>\n",
              "      <td>2.799589</td>\n",
              "      <td>0.323157</td>\n",
              "      <td>0.477095</td>\n",
              "      <td>0.300809</td>\n",
              "      <td>0.476796</td>\n",
              "      <td>0.282425</td>\n",
              "    </tr>\n",
              "    <tr>\n",
              "      <th>min</th>\n",
              "      <td>0.004874</td>\n",
              "      <td>0.000118</td>\n",
              "      <td>0.004399</td>\n",
              "      <td>0.000000</td>\n",
              "      <td>0.000000</td>\n",
              "      <td>0.000000</td>\n",
              "      <td>0.000000</td>\n",
              "      <td>0.000000</td>\n",
              "    </tr>\n",
              "    <tr>\n",
              "      <th>25%</th>\n",
              "      <td>3.878008</td>\n",
              "      <td>0.296671</td>\n",
              "      <td>0.475673</td>\n",
              "      <td>1.000000</td>\n",
              "      <td>0.000000</td>\n",
              "      <td>0.000000</td>\n",
              "      <td>0.000000</td>\n",
              "      <td>0.000000</td>\n",
              "    </tr>\n",
              "    <tr>\n",
              "      <th>50%</th>\n",
              "      <td>9.967760</td>\n",
              "      <td>0.998650</td>\n",
              "      <td>0.997717</td>\n",
              "      <td>1.000000</td>\n",
              "      <td>0.000000</td>\n",
              "      <td>0.000000</td>\n",
              "      <td>1.000000</td>\n",
              "      <td>0.000000</td>\n",
              "    </tr>\n",
              "    <tr>\n",
              "      <th>75%</th>\n",
              "      <td>25.743985</td>\n",
              "      <td>3.355748</td>\n",
              "      <td>2.096370</td>\n",
              "      <td>1.000000</td>\n",
              "      <td>1.000000</td>\n",
              "      <td>0.000000</td>\n",
              "      <td>1.000000</td>\n",
              "      <td>0.000000</td>\n",
              "    </tr>\n",
              "    <tr>\n",
              "      <th>max</th>\n",
              "      <td>10632.723672</td>\n",
              "      <td>11851.104565</td>\n",
              "      <td>267.802942</td>\n",
              "      <td>1.000000</td>\n",
              "      <td>1.000000</td>\n",
              "      <td>1.000000</td>\n",
              "      <td>1.000000</td>\n",
              "      <td>1.000000</td>\n",
              "    </tr>\n",
              "  </tbody>\n",
              "</table>\n",
              "</div>\n",
              "      <button class=\"colab-df-convert\" onclick=\"convertToInteractive('df-7a81eebb-059b-43b9-a62d-5fbd7212acb8')\"\n",
              "              title=\"Convert this dataframe to an interactive table.\"\n",
              "              style=\"display:none;\">\n",
              "        \n",
              "  <svg xmlns=\"http://www.w3.org/2000/svg\" height=\"24px\"viewBox=\"0 0 24 24\"\n",
              "       width=\"24px\">\n",
              "    <path d=\"M0 0h24v24H0V0z\" fill=\"none\"/>\n",
              "    <path d=\"M18.56 5.44l.94 2.06.94-2.06 2.06-.94-2.06-.94-.94-2.06-.94 2.06-2.06.94zm-11 1L8.5 8.5l.94-2.06 2.06-.94-2.06-.94L8.5 2.5l-.94 2.06-2.06.94zm10 10l.94 2.06.94-2.06 2.06-.94-2.06-.94-.94-2.06-.94 2.06-2.06.94z\"/><path d=\"M17.41 7.96l-1.37-1.37c-.4-.4-.92-.59-1.43-.59-.52 0-1.04.2-1.43.59L10.3 9.45l-7.72 7.72c-.78.78-.78 2.05 0 2.83L4 21.41c.39.39.9.59 1.41.59.51 0 1.02-.2 1.41-.59l7.78-7.78 2.81-2.81c.8-.78.8-2.07 0-2.86zM5.41 20L4 18.59l7.72-7.72 1.47 1.35L5.41 20z\"/>\n",
              "  </svg>\n",
              "      </button>\n",
              "      \n",
              "  <style>\n",
              "    .colab-df-container {\n",
              "      display:flex;\n",
              "      flex-wrap:wrap;\n",
              "      gap: 12px;\n",
              "    }\n",
              "\n",
              "    .colab-df-convert {\n",
              "      background-color: #E8F0FE;\n",
              "      border: none;\n",
              "      border-radius: 50%;\n",
              "      cursor: pointer;\n",
              "      display: none;\n",
              "      fill: #1967D2;\n",
              "      height: 32px;\n",
              "      padding: 0 0 0 0;\n",
              "      width: 32px;\n",
              "    }\n",
              "\n",
              "    .colab-df-convert:hover {\n",
              "      background-color: #E2EBFA;\n",
              "      box-shadow: 0px 1px 2px rgba(60, 64, 67, 0.3), 0px 1px 3px 1px rgba(60, 64, 67, 0.15);\n",
              "      fill: #174EA6;\n",
              "    }\n",
              "\n",
              "    [theme=dark] .colab-df-convert {\n",
              "      background-color: #3B4455;\n",
              "      fill: #D2E3FC;\n",
              "    }\n",
              "\n",
              "    [theme=dark] .colab-df-convert:hover {\n",
              "      background-color: #434B5C;\n",
              "      box-shadow: 0px 1px 3px 1px rgba(0, 0, 0, 0.15);\n",
              "      filter: drop-shadow(0px 1px 2px rgba(0, 0, 0, 0.3));\n",
              "      fill: #FFFFFF;\n",
              "    }\n",
              "  </style>\n",
              "\n",
              "      <script>\n",
              "        const buttonEl =\n",
              "          document.querySelector('#df-7a81eebb-059b-43b9-a62d-5fbd7212acb8 button.colab-df-convert');\n",
              "        buttonEl.style.display =\n",
              "          google.colab.kernel.accessAllowed ? 'block' : 'none';\n",
              "\n",
              "        async function convertToInteractive(key) {\n",
              "          const element = document.querySelector('#df-7a81eebb-059b-43b9-a62d-5fbd7212acb8');\n",
              "          const dataTable =\n",
              "            await google.colab.kernel.invokeFunction('convertToInteractive',\n",
              "                                                     [key], {});\n",
              "          if (!dataTable) return;\n",
              "\n",
              "          const docLinkHtml = 'Like what you see? Visit the ' +\n",
              "            '<a target=\"_blank\" href=https://colab.research.google.com/notebooks/data_table.ipynb>data table notebook</a>'\n",
              "            + ' to learn more about interactive tables.';\n",
              "          element.innerHTML = '';\n",
              "          dataTable['output_type'] = 'display_data';\n",
              "          await google.colab.output.renderOutput(dataTable, element);\n",
              "          const docLink = document.createElement('div');\n",
              "          docLink.innerHTML = docLinkHtml;\n",
              "          element.appendChild(docLink);\n",
              "        }\n",
              "      </script>\n",
              "    </div>\n",
              "  </div>\n",
              "  "
            ]
          },
          "metadata": {},
          "execution_count": 4
        }
      ]
    },
    {
      "cell_type": "code",
      "source": [
        "# information about the dataframe\n",
        "# There's not null values\n",
        "df.info()"
      ],
      "metadata": {
        "colab": {
          "base_uri": "https://localhost:8080/"
        },
        "id": "RREYcXoSxYMC",
        "outputId": "5985edd7-b005-4f91-9ac4-25185e85f19f"
      },
      "execution_count": 5,
      "outputs": [
        {
          "output_type": "stream",
          "name": "stdout",
          "text": [
            "<class 'pandas.core.frame.DataFrame'>\n",
            "RangeIndex: 1000000 entries, 0 to 999999\n",
            "Data columns (total 8 columns):\n",
            " #   Column                          Non-Null Count    Dtype  \n",
            "---  ------                          --------------    -----  \n",
            " 0   distance_from_home              1000000 non-null  float64\n",
            " 1   distance_from_last_transaction  1000000 non-null  float64\n",
            " 2   ratio_to_median_purchase_price  1000000 non-null  float64\n",
            " 3   repeat_retailer                 1000000 non-null  float64\n",
            " 4   used_chip                       1000000 non-null  float64\n",
            " 5   used_pin_number                 1000000 non-null  float64\n",
            " 6   online_order                    1000000 non-null  float64\n",
            " 7   fraud                           1000000 non-null  float64\n",
            "dtypes: float64(8)\n",
            "memory usage: 61.0 MB\n"
          ]
        }
      ]
    },
    {
      "cell_type": "code",
      "source": [
        "# histogram of all columns of dataframe\n",
        "\n",
        "df.hist(bins=5, figsize=(12,12), density=True)\n",
        "plt.show()"
      ],
      "metadata": {
        "colab": {
          "base_uri": "https://localhost:8080/",
          "height": 716
        },
        "id": "rVhpXqQK37Fw",
        "outputId": "654e9d0b-b15f-447d-f550-1ea09eb263c3"
      },
      "execution_count": 6,
      "outputs": [
        {
          "output_type": "display_data",
          "data": {
            "text/plain": [
              "<Figure size 864x864 with 9 Axes>"
            ],
            "image/png": "[encoded data removed]"
          },
          "metadata": {
            "needs_background": "light"
          }
        }
      ]
    },
    {
      "cell_type": "code",
      "source": [
        "# we can divide the dataframe in two dataframes, to make analysis in fraud transactions and normal transactions \n",
        "df_fraud = df[df['fraud'] == 1]\n",
        "df_notfraud = df[df['fraud'] == 0]"
      ],
      "metadata": {
        "id": "aMUvmMTX3-EA"
      },
      "execution_count": 7,
      "outputs": []
    },
    {
      "cell_type": "code",
      "source": [
        "# histogram normal transactions\n",
        "df_notfraud.hist(bins=5, figsize=(12,12), density=True)\n",
        "plt.show()"
      ],
      "metadata": {
        "colab": {
          "base_uri": "https://localhost:8080/",
          "height": 716
        },
        "id": "TRxLYRkf5Yim",
        "outputId": "a6b78b33-a13e-4324-b883-c153d4529a3d"
      },
      "execution_count": 8,
      "outputs": [
        {
          "output_type": "display_data",
          "data": {
            "text/plain": [
              "<Figure size 864x864 with 9 Axes>"
            ],
            "image/png": "[encoded data removed]"
          },
          "metadata": {
            "needs_background": "light"
          }
        }
      ]
    },
    {
      "cell_type": "code",
      "source": [
        "# histogram fraud transactions\n",
        "df_fraud.hist(bins=5, figsize=(12,12), density=True)\n",
        "plt.show()"
      ],
      "metadata": {
        "colab": {
          "base_uri": "https://localhost:8080/",
          "height": 716
        },
        "id": "Tty7zQ6y5eke",
        "outputId": "1c9dc936-2596-43cf-f90f-e5c8d2b87569"
      },
      "execution_count": 9,
      "outputs": [
        {
          "output_type": "display_data",
          "data": {
            "text/plain": [
              "<Figure size 864x864 with 9 Axes>"
            ],
            "image/png": "[encoded data removed]"
          },
          "metadata": {
            "needs_background": "light"
          }
        }
      ]
    },
    {
      "cell_type": "code",
      "source": [
        "# 99% of frauds transactions didn't utilize the Pin Number in transaction. \n",
        "\n",
        "count = df_fraud['used_pin_number'].value_counts()\n",
        "print(f\"Transactions not used Pin Number: {count[0]}\")\n",
        "print(f\"\\nTransactions used Pin Number: {count[1]}\")"
      ],
      "metadata": {
        "colab": {
          "base_uri": "https://localhost:8080/"
        },
        "id": "LoiGVt-g5ky1",
        "outputId": "5ead5406-c8bf-4a76-e3d5-da7dd1499ae6"
      },
      "execution_count": 10,
      "outputs": [
        {
          "output_type": "stream",
          "name": "stdout",
          "text": [
            "Transactions not used Pin Number: 87130\n",
            "\n",
            "Transactions used Pin Number: 273\n"
          ]
        }
      ]
    },
    {
      "cell_type": "code",
      "source": [
        "# The median of distance from last transaction of frauds transactions is three more than normal transactions\n",
        "\n",
        "mean_frauds = df_fraud['distance_from_last_transaction'].mean()\n",
        "mean_notfrauds = df_notfraud['distance_from_last_transaction'].mean()\n",
        "print(f\"Mean of distance from last transaction of frauds transactions : {round(mean_frauds,2)} \")\n",
        "print(f\"\\nMean of distance from last transaction of no frauds transactions : {round(mean_notfrauds,2)} \")"
      ],
      "metadata": {
        "colab": {
          "base_uri": "https://localhost:8080/"
        },
        "id": "nHESR0ok5qwc",
        "outputId": "12846388-2cae-47bb-ec99-83b9b15024ad"
      },
      "execution_count": 11,
      "outputs": [
        {
          "output_type": "stream",
          "name": "stdout",
          "text": [
            "Mean of distance from last transaction of frauds transactions : 12.71 \n",
            "\n",
            "Mean of distance from last transaction of no frauds transactions : 4.3 \n"
          ]
        }
      ]
    },
    {
      "cell_type": "code",
      "source": [
        "from sklearn.model_selection import train_test_split\n",
        "from sklearn.neighbors import KNeighborsClassifier \n",
        "from sklearn.naive_bayes import GaussianNB\n",
        "from sklearn.linear_model import LogisticRegression\n",
        "from sklearn.tree import DecisionTreeClassifier\n",
        "from sklearn.preprocessing import StandardScaler"
      ],
      "metadata": {
        "id": "ESR2NkxM6D3y"
      },
      "execution_count": 12,
      "outputs": []
    },
    {
      "cell_type": "code",
      "source": [
        "# it's so disproportionate number of samples each classes\n",
        "# we can use the oversampling to balance the classes through the creation new data\n",
        "sns.countplot (x = df['fraud'])"
      ],
      "metadata": {
        "colab": {
          "base_uri": "https://localhost:8080/",
          "height": 296
        },
        "id": "JDYlBCYS6uWM",
        "outputId": "5c2c1d7a-2343-4ffa-fca4-9a8634b0faad"
      },
      "execution_count": 13,
      "outputs": [
        {
          "output_type": "execute_result",
          "data": {
            "text/plain": [
              "<matplotlib.axes._subplots.AxesSubplot at 0x7f8e4e94ad50>"
            ]
          },
          "metadata": {},
          "execution_count": 13
        },
        {
          "output_type": "display_data",
          "data": {
            "text/plain": [
              "<Figure size 432x288 with 1 Axes>"
            ],
            "image/png": "[encoded data removed]"
          },
          "metadata": {
            "needs_background": "light"
          }
        }
      ]
    },
    {
      "cell_type": "code",
      "source": [
        "# defining the features to models\n",
        "x = df.drop('fraud', axis = 1).values\n",
        "y = df['fraud'].values"
      ],
      "metadata": {
        "id": "grMeE5s36xFt"
      },
      "execution_count": 14,
      "outputs": []
    },
    {
      "cell_type": "code",
      "source": [
        "# standardization of data\n",
        "scaler = StandardScaler()\n",
        "x = scaler.fit_transform(x)"
      ],
      "metadata": {
        "id": "cciDSSzx69y5"
      },
      "execution_count": 16,
      "outputs": []
    },
    {
      "cell_type": "code",
      "source": [
        "# splitting the data in train data and test data\n",
        "x_train, x_test, y_train, y_test = train_test_split(x, y,test_size = 0.3, random_state = 0) "
      ],
      "metadata": {
        "id": "rXFNV17P7Frm"
      },
      "execution_count": 18,
      "outputs": []
    },
    {
      "cell_type": "code",
      "source": [
        "# appling the oversampling\n",
        "from imblearn.over_sampling import SMOTE\n",
        "smote = SMOTE(sampling_strategy = 'minority')\n",
        "x_over, y_over = smote.fit_resample(x_train,y_train)"
      ],
      "metadata": {
        "id": "z4aj4L0J7Oj6"
      },
      "execution_count": 19,
      "outputs": []
    },
    {
      "cell_type": "code",
      "source": [
        "print(f'size y_train before smote: {len(y_train)}')\n",
        "print(f'size y_train after the smote: {len(y_over)}')"
      ],
      "metadata": {
        "colab": {
          "base_uri": "https://localhost:8080/"
        },
        "id": "MeJ9cjin7ZdT",
        "outputId": "8e09e50b-b3b1-420a-aed2-b804a9c1fe77"
      },
      "execution_count": 31,
      "outputs": [
        {
          "output_type": "stream",
          "name": "stdout",
          "text": [
            "size y_train before smote: 700000\n",
            "size y_train after the smote: 1277380\n"
          ]
        }
      ]
    },
    {
      "cell_type": "code",
      "source": [
        "old_values = np.unique(y_train, return_counts=True)\n",
        "new_values = np.unique(y_over, return_counts=True)"
      ],
      "metadata": {
        "id": "MDT7a6Y57cA3"
      },
      "execution_count": 48,
      "outputs": []
    },
    {
      "cell_type": "code",
      "source": [
        "print(f'count values before the smote: {old_values}')\n",
        "print(f'count values before the smote: {new_values}')"
      ],
      "metadata": {
        "colab": {
          "base_uri": "https://localhost:8080/"
        },
        "id": "WfpJnquE78jK",
        "outputId": "219e88dc-a591-47cb-c8f9-fc90ebc51c23"
      },
      "execution_count": 49,
      "outputs": [
        {
          "output_type": "stream",
          "name": "stdout",
          "text": [
            "count values before the smote: (array([0., 1.]), array([638690,  61310]))\n",
            "count values before the smote: (array([0., 1.]), array([638690, 638690]))\n"
          ]
        }
      ]
    },
    {
      "cell_type": "code",
      "source": [
        "# training the models\n",
        "knn = KNeighborsClassifier(n_neighbors = 5)\n",
        "knn.fit(x_train,y_train)\n",
        "\n",
        "naive_bayers = GaussianNB()\n",
        "naive_bayers.fit(x_train,y_train)\n",
        "\n",
        "logistic = LogisticRegression()\n",
        "logistic.fit(x_train,y_train)\n",
        "\n",
        "tree = DecisionTreeClassifier()\n",
        "tree.fit(x_train,y_train)"
      ],
      "metadata": {
        "colab": {
          "base_uri": "https://localhost:8080/"
        },
        "id": "hxHZ8phe7_no",
        "outputId": "55e04574-4689-4a03-ebe2-e685a55dfa1f"
      },
      "execution_count": 34,
      "outputs": [
        {
          "output_type": "execute_result",
          "data": {
            "text/plain": [
              "DecisionTreeClassifier()"
            ]
          },
          "metadata": {},
          "execution_count": 34
        }
      ]
    },
    {
      "cell_type": "code",
      "source": [
        "from sklearn.metrics import accuracy_score, confusion_matrix, classification_report"
      ],
      "metadata": {
        "id": "MGNxpHT19Qn2"
      },
      "execution_count": 35,
      "outputs": []
    },
    {
      "cell_type": "code",
      "source": [
        "# predictions of models\n",
        "tree_pred = tree.predict(x_test)\n",
        "knn_pred = knn.predict(x_test)\n",
        "naive_pred = naive_bayers.predict(x_test)\n",
        "logistic_pred = logistic.predict(x_test)"
      ],
      "metadata": {
        "id": "CkqvzTpc9VhU"
      },
      "execution_count": 36,
      "outputs": []
    },
    {
      "cell_type": "code",
      "source": [
        "# Accucary of models \n",
        "print(\"accuracy of KNN                 \", round(accuracy_score(y_test, knn_pred), 2))\n",
        "print(\"\\naccuracy of Naive Bayers        \", round(accuracy_score(y_test,naive_pred), 2))\n",
        "print(\"\\naccuracy of Logistic Regression \", round(accuracy_score(y_test,logistic_pred), 2))\n",
        "print(\"\\naccuracy of Decision Tree       \", round(accuracy_score(y_test,tree_pred), 2))"
      ],
      "metadata": {
        "colab": {
          "base_uri": "https://localhost:8080/"
        },
        "id": "dwLrmis-9Xe2",
        "outputId": "463d2528-57a0-45f3-a2e7-628d91bc0422"
      },
      "execution_count": 39,
      "outputs": [
        {
          "output_type": "stream",
          "name": "stdout",
          "text": [
            "accuracy of KNN                  1.0\n",
            "\n",
            "accuracy of Naive Bayers         0.95\n",
            "\n",
            "accuracy of Logistic Regression  0.96\n",
            "\n",
            "accuracy of Decision Tree        1.0\n"
          ]
        }
      ]
    },
    {
      "cell_type": "code",
      "source": [
        "# confusion matrix of KNN\n",
        "confusion_matrix(y_test, knn_pred)"
      ],
      "metadata": {
        "colab": {
          "base_uri": "https://localhost:8080/"
        },
        "id": "46aIQPh89kbH",
        "outputId": "dbe9d357-2406-47bd-a1ed-1311a6ec715b"
      },
      "execution_count": 40,
      "outputs": [
        {
          "output_type": "execute_result",
          "data": {
            "text/plain": [
              "array([[273771,    136],\n",
              "       [   238,  25855]])"
            ]
          },
          "metadata": {},
          "execution_count": 40
        }
      ]
    },
    {
      "cell_type": "code",
      "source": [
        "cm=confusion_matrix(y_test, knn_pred)\n",
        "sns.heatmap(cm, annot=True)"
      ],
      "metadata": {
        "colab": {
          "base_uri": "https://localhost:8080/",
          "height": 282
        },
        "id": "sPirl2Ar-Dxt",
        "outputId": "80f24729-7f15-4969-c8ff-158432f3e11a"
      },
      "execution_count": 41,
      "outputs": [
        {
          "output_type": "execute_result",
          "data": {
            "text/plain": [
              "<matplotlib.axes._subplots.AxesSubplot at 0x7f8e4a83d9d0>"
            ]
          },
          "metadata": {},
          "execution_count": 41
        },
        {
          "output_type": "display_data",
          "data": {
            "text/plain": [
              "<Figure size 432x288 with 2 Axes>"
            ],
            "image/png": "[encoded data removed]"
          },
          "metadata": {
            "needs_background": "light"
          }
        }
      ]
    },
    {
      "cell_type": "code",
      "source": [
        "# confusion matrix of Decision Tree\n",
        "confusion_matrix(y_test, tree_pred)"
      ],
      "metadata": {
        "colab": {
          "base_uri": "https://localhost:8080/"
        },
        "id": "bG075xKL-JPe",
        "outputId": "c133076f-63ef-4a12-c4c5-e7d283d10908"
      },
      "execution_count": 42,
      "outputs": [
        {
          "output_type": "execute_result",
          "data": {
            "text/plain": [
              "array([[273907,      0],\n",
              "       [     2,  26091]])"
            ]
          },
          "metadata": {},
          "execution_count": 42
        }
      ]
    },
    {
      "cell_type": "code",
      "source": [
        "cm=confusion_matrix(y_test, tree_pred)\n",
        "sns.heatmap(cm, annot=True) "
      ],
      "metadata": {
        "colab": {
          "base_uri": "https://localhost:8080/",
          "height": 282
        },
        "id": "-ksL3FEV-Nvq",
        "outputId": "4ea05087-9caa-4afd-dfdc-6b1724e80f06"
      },
      "execution_count": 43,
      "outputs": [
        {
          "output_type": "execute_result",
          "data": {
            "text/plain": [
              "<matplotlib.axes._subplots.AxesSubplot at 0x7f8e4a798e10>"
            ]
          },
          "metadata": {},
          "execution_count": 43
        },
        {
          "output_type": "display_data",
          "data": {
            "text/plain": [
              "<Figure size 432x288 with 2 Axes>"
            ],
            "image/png": "[encoded data removed]"
          },
          "metadata": {
            "needs_background": "light"
          }
        }
      ]
    },
    {
      "cell_type": "code",
      "source": [
        "# Other metrics of KNN model:\n",
        "print(classification_report(y_test, knn_pred) )"
      ],
      "metadata": {
        "colab": {
          "base_uri": "https://localhost:8080/"
        },
        "id": "vacJ-a7p-SKN",
        "outputId": "e30e2401-b9d2-422c-dbc0-2f023ad5ded4"
      },
      "execution_count": 44,
      "outputs": [
        {
          "output_type": "stream",
          "name": "stdout",
          "text": [
            "              precision    recall  f1-score   support\n",
            "\n",
            "         0.0       1.00      1.00      1.00    273907\n",
            "         1.0       0.99      0.99      0.99     26093\n",
            "\n",
            "    accuracy                           1.00    300000\n",
            "   macro avg       1.00      1.00      1.00    300000\n",
            "weighted avg       1.00      1.00      1.00    300000\n",
            "\n"
          ]
        }
      ]
    },
    {
      "cell_type": "code",
      "source": [
        "# Other metrics of Decision Tree model:\n",
        "print(classification_report(y_test, tree_pred) )"
      ],
      "metadata": {
        "colab": {
          "base_uri": "https://localhost:8080/"
        },
        "id": "GCKGHhI2-WKn",
        "outputId": "ca5fd480-6cd2-4bef-e869-f08ed3f2134a"
      },
      "execution_count": 45,
      "outputs": [
        {
          "output_type": "stream",
          "name": "stdout",
          "text": [
            "              precision    recall  f1-score   support\n",
            "\n",
            "         0.0       1.00      1.00      1.00    273907\n",
            "         1.0       1.00      1.00      1.00     26093\n",
            "\n",
            "    accuracy                           1.00    300000\n",
            "   macro avg       1.00      1.00      1.00    300000\n",
            "weighted avg       1.00      1.00      1.00    300000\n",
            "\n"
          ]
        }
      ]
    },
    {
      "cell_type": "code",
      "source": [
        "# The KNN and Decision Tree was the models with best performance.\n",
        "\n",
        "# The majority frauds transactions happen without use Pin Number, so Pin Number can help to identify frauds\n",
        "\n",
        "# And frauds transactions have a averange of distance from last transaction longer than normal transaction,\n",
        "# so that's can be another feature to identify the frauds"
      ],
      "metadata": {
        "id": "f60f0nkE-aew"
      },
      "execution_count": 46,
      "outputs": []
    },
    {
      "cell_type": "code",
      "source": [],
      "metadata": {
        "id": "3DLftm3k-fp3"
      },
      "execution_count": null,
      "outputs": []
    }
  ]
}